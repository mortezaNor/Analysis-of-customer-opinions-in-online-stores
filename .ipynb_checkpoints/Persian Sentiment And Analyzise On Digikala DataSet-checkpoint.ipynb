{
 "cells": [
  {
   "cell_type": "code",
   "execution_count": 1,
   "id": "62c5146b",
   "metadata": {},
   "outputs": [],
   "source": [
    "from __future__ import unicode_literals\n",
    "from hazm import *\n",
    "import tensorflow as tf\n",
    "from keras.models import Sequential\n",
    "import pandas as pd\n",
    "from keras.layers import Dense\n",
    "import numpy as np\n",
    "import re\n",
    "from urlextract import URLExtract\n",
    "import emojis\n",
    "from sklearn.feature_extraction.text import CountVectorizer\n",
    "from sklearn.feature_extraction.text import TfidfVectorizer\n",
    "from sklearn.linear_model import LogisticRegression\n",
    "from sklearn.ensemble import RandomForestClassifier\n",
    "from sklearn import preprocessing, metrics\n",
    "from keras.layers import Dense, Dropout,Activation\n",
    "from keras.optimizers import Adadelta,Adam,RMSprop\n",
    "from keras import utils as np_utils\n",
    "from keras_preprocessing.text import Tokenizer\n",
    "from keras_preprocessing.sequence import pad_sequences"
   ]
  },
  {
   "cell_type": "markdown",
   "id": "d9b30adf",
   "metadata": {
    "scrolled": true
   },
   "source": [
    "# Load and Read Data"
   ]
  },
  {
   "cell_type": "code",
   "execution_count": null,
   "id": "06901ff0",
   "metadata": {},
   "outputs": [],
   "source": [
    "corpus = pd.read_csv('digikala-comments-raw.csv', on_bad_lines= 'skip')"
   ]
  },
  {
   "cell_type": "code",
   "execution_count": 88,
   "id": "ec1e1048",
   "metadata": {},
   "outputs": [
    {
     "data": {
      "text/html": [
       "<div>\n",
       "<style scoped>\n",
       "    .dataframe tbody tr th:only-of-type {\n",
       "        vertical-align: middle;\n",
       "    }\n",
       "\n",
       "    .dataframe tbody tr th {\n",
       "        vertical-align: top;\n",
       "    }\n",
       "\n",
       "    .dataframe thead th {\n",
       "        text-align: right;\n",
       "    }\n",
       "</style>\n",
       "<table border=\"1\" class=\"dataframe\">\n",
       "  <thead>\n",
       "    <tr style=\"text-align: right;\">\n",
       "      <th></th>\n",
       "      <th>id</th>\n",
       "      <th>title</th>\n",
       "      <th>body</th>\n",
       "      <th>created_at</th>\n",
       "      <th>rate</th>\n",
       "      <th>recommendation_status</th>\n",
       "      <th>is_buyer</th>\n",
       "      <th>product_id</th>\n",
       "      <th>advantages</th>\n",
       "      <th>disadvantages</th>\n",
       "      <th>likes</th>\n",
       "      <th>dislikes</th>\n",
       "      <th>seller_title</th>\n",
       "      <th>seller_code</th>\n",
       "      <th>true_to_size_rate</th>\n",
       "    </tr>\n",
       "  </thead>\n",
       "  <tbody>\n",
       "    <tr>\n",
       "      <th>0</th>\n",
       "      <td>53672599</td>\n",
       "      <td>پیشنهاد نمیشود</td>\n",
       "      <td>به درد نمیخوره</td>\n",
       "      <td>23 شهریور 1402</td>\n",
       "      <td>1.0</td>\n",
       "      <td>not_recommended</td>\n",
       "      <td>True</td>\n",
       "      <td>252058</td>\n",
       "      <td>NaN</td>\n",
       "      <td>NaN</td>\n",
       "      <td>0</td>\n",
       "      <td>0</td>\n",
       "      <td>دیجی‌کالا</td>\n",
       "      <td>5A52N</td>\n",
       "      <td>NaN</td>\n",
       "    </tr>\n",
       "    <tr>\n",
       "      <th>1</th>\n",
       "      <td>9897229</td>\n",
       "      <td>بسته بندی بد</td>\n",
       "      <td>می‌تونست به عنوان یه کالای فرهنگی بهتر بسته بن...</td>\n",
       "      <td>16 تیر 1399</td>\n",
       "      <td>0.0</td>\n",
       "      <td>recommended</td>\n",
       "      <td>True</td>\n",
       "      <td>252058</td>\n",
       "      <td>['تجربه جالبی بود برام ']</td>\n",
       "      <td>['بسته بندی جالبی نداشت']</td>\n",
       "      <td>1</td>\n",
       "      <td>0</td>\n",
       "      <td>دیجی‌کالا</td>\n",
       "      <td>5A52N</td>\n",
       "      <td>NaN</td>\n",
       "    </tr>\n",
       "    <tr>\n",
       "      <th>2</th>\n",
       "      <td>38074516</td>\n",
       "      <td>برس ریمل</td>\n",
       "      <td>بسته بندیش خوب بود\\r\\n کاربرد و کیفیتشم خیلی خ...</td>\n",
       "      <td>26 مرداد 1401</td>\n",
       "      <td>0.0</td>\n",
       "      <td>recommended</td>\n",
       "      <td>True</td>\n",
       "      <td>3331597</td>\n",
       "      <td>NaN</td>\n",
       "      <td>NaN</td>\n",
       "      <td>0</td>\n",
       "      <td>0</td>\n",
       "      <td>آرالیا بیوتی</td>\n",
       "      <td>ADM47</td>\n",
       "      <td>NaN</td>\n",
       "    </tr>\n",
       "    <tr>\n",
       "      <th>3</th>\n",
       "      <td>18628562</td>\n",
       "      <td>خوبه و خوشرنگ</td>\n",
       "      <td>به نظرم خوبه فقط یکم ظریفه. از رنگش خوشم اومد ...</td>\n",
       "      <td>28 اسفند 1399</td>\n",
       "      <td>0.0</td>\n",
       "      <td>recommended</td>\n",
       "      <td>True</td>\n",
       "      <td>3331329</td>\n",
       "      <td>NaN</td>\n",
       "      <td>NaN</td>\n",
       "      <td>0</td>\n",
       "      <td>0</td>\n",
       "      <td>اینجاست آ</td>\n",
       "      <td>9ZMCZ</td>\n",
       "      <td>NaN</td>\n",
       "    </tr>\n",
       "    <tr>\n",
       "      <th>4</th>\n",
       "      <td>53301258</td>\n",
       "      <td>برس رنگ مو</td>\n",
       "      <td>معمولیه اگه واسه خونه رنگ کردن شخصی میخواین او...</td>\n",
       "      <td>12 شهریور 1402</td>\n",
       "      <td>3.0</td>\n",
       "      <td>recommended</td>\n",
       "      <td>True</td>\n",
       "      <td>3255700</td>\n",
       "      <td>NaN</td>\n",
       "      <td>NaN</td>\n",
       "      <td>0</td>\n",
       "      <td>0</td>\n",
       "      <td>گالری آرایشی به سیما</td>\n",
       "      <td>CDWHA</td>\n",
       "      <td>NaN</td>\n",
       "    </tr>\n",
       "  </tbody>\n",
       "</table>\n",
       "</div>"
      ],
      "text/plain": [
       "         id           title  \\\n",
       "0  53672599  پیشنهاد نمیشود   \n",
       "1   9897229    بسته بندی بد   \n",
       "2  38074516        برس ریمل   \n",
       "3  18628562   خوبه و خوشرنگ   \n",
       "4  53301258      برس رنگ مو   \n",
       "\n",
       "                                                body      created_at  rate  \\\n",
       "0                                    به درد نمیخوره   23 شهریور 1402   1.0   \n",
       "1  می‌تونست به عنوان یه کالای فرهنگی بهتر بسته بن...     16 تیر 1399   0.0   \n",
       "2  بسته بندیش خوب بود\\r\\n کاربرد و کیفیتشم خیلی خ...   26 مرداد 1401   0.0   \n",
       "3  به نظرم خوبه فقط یکم ظریفه. از رنگش خوشم اومد ...   28 اسفند 1399   0.0   \n",
       "4  معمولیه اگه واسه خونه رنگ کردن شخصی میخواین او...  12 شهریور 1402   3.0   \n",
       "\n",
       "  recommendation_status  is_buyer  product_id                 advantages  \\\n",
       "0       not_recommended      True      252058                        NaN   \n",
       "1           recommended      True      252058  ['تجربه جالبی بود برام ']   \n",
       "2           recommended      True     3331597                        NaN   \n",
       "3           recommended      True     3331329                        NaN   \n",
       "4           recommended      True     3255700                        NaN   \n",
       "\n",
       "               disadvantages  likes  dislikes          seller_title  \\\n",
       "0                        NaN      0         0             دیجی‌کالا   \n",
       "1  ['بسته بندی جالبی نداشت']      1         0             دیجی‌کالا   \n",
       "2                        NaN      0         0          آرالیا بیوتی   \n",
       "3                        NaN      0         0            اینجاست آ    \n",
       "4                        NaN      0         0  گالری آرایشی به سیما   \n",
       "\n",
       "  seller_code true_to_size_rate  \n",
       "0       5A52N               NaN  \n",
       "1       5A52N               NaN  \n",
       "2       ADM47               NaN  \n",
       "3       9ZMCZ               NaN  \n",
       "4       CDWHA               NaN  "
      ]
     },
     "execution_count": 88,
     "metadata": {},
     "output_type": "execute_result"
    }
   ],
   "source": [
    "corpus.head()"
   ]
  },
  {
   "cell_type": "code",
   "execution_count": 106,
   "id": "4b31aa01",
   "metadata": {},
   "outputs": [
    {
     "name": "stdout",
     "output_type": "stream",
     "text": [
      "(76909, 15)\n"
     ]
    }
   ],
   "source": [
    "corpus['recommendation_status'].values\n",
    "corpus = corpus.dropna(subset=['recommendation_status'])\n",
    "corpus = corpus.drop(corpus[(corpus.recommendation_status == 'no_idea')].index)\n",
    "print(corpus.shape)\n",
    "\n",
    "cols= ['body','recommendation_status']\n",
    "cps = corpus[cols].values\n",
    "new_corpus = corpus[cols]"
   ]
  },
  {
   "cell_type": "code",
   "execution_count": 107,
   "id": "0ddf92ea",
   "metadata": {},
   "outputs": [],
   "source": [
    "le_status = preprocessing.LabelEncoder()\n",
    "le_status.fit(['not_recommended','recommended'])\n",
    "cps[:,1] = le_status.transform(cps[:,1])"
   ]
  },
  {
   "cell_type": "code",
   "execution_count": 108,
   "id": "372a3414",
   "metadata": {},
   "outputs": [
    {
     "name": "stderr",
     "output_type": "stream",
     "text": [
      "C:\\Users\\saraye tell\\AppData\\Local\\Temp\\ipykernel_26832\\3883589848.py:2: SettingWithCopyWarning: \n",
      "A value is trying to be set on a copy of a slice from a DataFrame.\n",
      "Try using .loc[row_indexer,col_indexer] = value instead\n",
      "\n",
      "See the caveats in the documentation: https://pandas.pydata.org/pandas-docs/stable/user_guide/indexing.html#returning-a-view-versus-a-copy\n",
      "  new_corpus['status_label'] = list1\n"
     ]
    },
    {
     "data": {
      "text/html": [
       "<div>\n",
       "<style scoped>\n",
       "    .dataframe tbody tr th:only-of-type {\n",
       "        vertical-align: middle;\n",
       "    }\n",
       "\n",
       "    .dataframe tbody tr th {\n",
       "        vertical-align: top;\n",
       "    }\n",
       "\n",
       "    .dataframe thead th {\n",
       "        text-align: right;\n",
       "    }\n",
       "</style>\n",
       "<table border=\"1\" class=\"dataframe\">\n",
       "  <thead>\n",
       "    <tr style=\"text-align: right;\">\n",
       "      <th></th>\n",
       "      <th>body</th>\n",
       "      <th>recommendation_status</th>\n",
       "      <th>status_label</th>\n",
       "    </tr>\n",
       "  </thead>\n",
       "  <tbody>\n",
       "    <tr>\n",
       "      <th>0</th>\n",
       "      <td>به درد نمیخوره</td>\n",
       "      <td>not_recommended</td>\n",
       "      <td>0</td>\n",
       "    </tr>\n",
       "    <tr>\n",
       "      <th>1</th>\n",
       "      <td>می‌تونست به عنوان یه کالای فرهنگی بهتر بسته بن...</td>\n",
       "      <td>recommended</td>\n",
       "      <td>1</td>\n",
       "    </tr>\n",
       "    <tr>\n",
       "      <th>2</th>\n",
       "      <td>بسته بندیش خوب بود\\r\\n کاربرد و کیفیتشم خیلی خ...</td>\n",
       "      <td>recommended</td>\n",
       "      <td>1</td>\n",
       "    </tr>\n",
       "    <tr>\n",
       "      <th>3</th>\n",
       "      <td>به نظرم خوبه فقط یکم ظریفه. از رنگش خوشم اومد ...</td>\n",
       "      <td>recommended</td>\n",
       "      <td>1</td>\n",
       "    </tr>\n",
       "    <tr>\n",
       "      <th>4</th>\n",
       "      <td>معمولیه اگه واسه خونه رنگ کردن شخصی میخواین او...</td>\n",
       "      <td>recommended</td>\n",
       "      <td>1</td>\n",
       "    </tr>\n",
       "  </tbody>\n",
       "</table>\n",
       "</div>"
      ],
      "text/plain": [
       "                                                body recommendation_status  \\\n",
       "0                                    به درد نمیخوره        not_recommended   \n",
       "1  می‌تونست به عنوان یه کالای فرهنگی بهتر بسته بن...           recommended   \n",
       "2  بسته بندیش خوب بود\\r\\n کاربرد و کیفیتشم خیلی خ...           recommended   \n",
       "3  به نظرم خوبه فقط یکم ظریفه. از رنگش خوشم اومد ...           recommended   \n",
       "4  معمولیه اگه واسه خونه رنگ کردن شخصی میخواین او...           recommended   \n",
       "\n",
       "   status_label  \n",
       "0             0  \n",
       "1             1  \n",
       "2             1  \n",
       "3             1  \n",
       "4             1  "
      ]
     },
     "execution_count": 108,
     "metadata": {},
     "output_type": "execute_result"
    }
   ],
   "source": [
    "list1 = cps[:,1].tolist()\n",
    "new_corpus['status_label'] = list1\n",
    "new_corpus.head()"
   ]
  },
  {
   "cell_type": "markdown",
   "id": "c031cca1",
   "metadata": {},
   "source": [
    "# Preprocess and Cleaning Data"
   ]
  },
  {
   "cell_type": "code",
   "execution_count": 10,
   "id": "78d38c2b",
   "metadata": {},
   "outputs": [],
   "source": [
    "def _multiple_replace(mapping, text):\n",
    "    pattern = \"|\".join(map(re.escape, mapping.keys()))\n",
    "    return re.sub(pattern, lambda m: mapping[m.group()], str(text))\n",
    "\n",
    "def convert_fa_numbers(input_str):\n",
    "    mapping ={\n",
    "        '١' :'۱',\n",
    "        '٢' :'۲',\n",
    "        '٣' :'۳',\n",
    "        '٤' :'۴',\n",
    "        '٥' :'۵',\n",
    "        '٦' :'۶',\n",
    "        '٧' :'۷',\n",
    "        '٨' :'۸',\n",
    "        '٩' :'۹',\n",
    "        '٠' :'۰',\n",
    "        '۰' :'0',\n",
    "        '۱' :'1',\n",
    "        '۲' :'2',\n",
    "        '۳' :'3',\n",
    "        '۴' :'4',\n",
    "        '۵' :'5',\n",
    "        '۶' :'6',\n",
    "        '۷' :'7',\n",
    "        '۸' :'8',\n",
    "        '۹' :'9',\n",
    "        '.' :'.',\n",
    "    }\n",
    "    return _multiple_replace(mapping, input_str)\n",
    "\n",
    "def convert_ar_characters(input_str):\n",
    "    #Converts Arabic chars to related Persian unicode char\n",
    "    \n",
    "    mapping ={\n",
    "        'ك' :'ک',\n",
    "        'دِ': 'د',\n",
    "        'بِ': 'ب',\n",
    "        'زِ': 'ز',\n",
    "        'ذِ': 'ذ',\n",
    "        'شِ': 'ش',\n",
    "        'سِ': 'س',\n",
    "        'ى' :'ی',\n",
    "        'ي' :'ی',\n",
    "        \n",
    "    }\n",
    "    return _multiple_replace(mapping, input_str)\n",
    "\n",
    "def preprocess(text):\n",
    "    extractor = URLExtract()\n",
    "    for url in extractor.gen_urls(text):\n",
    "        text = text.replace(url,'<URL>')\n",
    "    emj = emojis.get(text)\n",
    "    for i in emj:\n",
    "        if i in text:\n",
    "            text = text.replace(i,'<emoji>')\n",
    "    text = convert_fa_numbers(text)\n",
    "    text = convert_ar_characters(text)\n",
    "    # regex to detect and replace all smilies in the text with <smiley>\n",
    "    text = re.sub(r\"(:\\s?\\)|:-\\)|\\(\\s?:|\\(-:|:\\'\\)|:\\s?D|8-\\)|:s?\\||;\\s?\\)|:-\\*|:-\\||:-\\(|:\\s?P|:-P|:-p|:-O|:-o|:-0|:-\\@|:\\$|:-\\^|:-&|:-\\*|:-\\+|:-\\~|:-\\'|:-\\>|:-\\<|:-\\}|:-\\{|\\[:\\s?\\]|\\[:\\s?\\]|:\\s?\\]|:\\s?\\}|:s?\\{)\",'<smiley>',text) \n",
    "    text = text.strip()\n",
    "    text = re.sub(r'[<>#.:()\"\\'!?؟،,@$%^&*_+\\[\\]/]','',text)\n",
    "    text = re.sub(r'[\\s]{2,}',' ',text)\n",
    "    text = re.sub(r'(\\w)\\1{2,}', r'\\1',text)\n",
    "    if re.search(r'[\\u0600-\\u06FF]', text):\n",
    "        return (text)\n",
    "    else:\n",
    "        return 'None'\n",
    "    \n",
    "    \n",
    "def modelEvaluation(y_test, predictions):    \n",
    "    #Print model evaluation to predicted result \n",
    "    print (\"\\nAccuracy on validation set: {:.4f}\".format(metrics.accuracy_score(y_test, predictions)))\n",
    "    #print(\"\\nAUC score : {:.4f}\".format(roc_auc_score(y_test, predictions)))\n",
    "    print(\"\\nClassification report : \\n\", metrics.classification_report(y_test, predictions))\n",
    "    print(\"\\nConfusion Matrix : \\n\", metrics.confusion_matrix(y_test, predictions))"
   ]
  },
  {
   "cell_type": "code",
   "execution_count": 110,
   "id": "5a941cb5",
   "metadata": {},
   "outputs": [
    {
     "name": "stderr",
     "output_type": "stream",
     "text": [
      "C:\\Users\\saraye tell\\AppData\\Local\\Temp\\ipykernel_26832\\3945406350.py:1: SettingWithCopyWarning: \n",
      "A value is trying to be set on a copy of a slice from a DataFrame.\n",
      "Try using .loc[row_indexer,col_indexer] = value instead\n",
      "\n",
      "See the caveats in the documentation: https://pandas.pydata.org/pandas-docs/stable/user_guide/indexing.html#returning-a-view-versus-a-copy\n",
      "  new_corpus['body'] = new_corpus['body'].astype(\"string\")\n",
      "C:\\Users\\saraye tell\\AppData\\Local\\Temp\\ipykernel_26832\\3945406350.py:2: SettingWithCopyWarning: \n",
      "A value is trying to be set on a copy of a slice from a DataFrame.\n",
      "Try using .loc[row_indexer,col_indexer] = value instead\n",
      "\n",
      "See the caveats in the documentation: https://pandas.pydata.org/pandas-docs/stable/user_guide/indexing.html#returning-a-view-versus-a-copy\n",
      "  new_corpus['body'] = new_corpus['body'].apply(str)\n"
     ]
    }
   ],
   "source": [
    "new_corpus['body'] = new_corpus['body'].astype(\"string\")\n",
    "new_corpus['body'] = new_corpus['body'].apply(str)"
   ]
  },
  {
   "cell_type": "code",
   "execution_count": 112,
   "id": "869061ff",
   "metadata": {},
   "outputs": [
    {
     "name": "stderr",
     "output_type": "stream",
     "text": [
      "C:\\Users\\saraye tell\\AppData\\Local\\Temp\\ipykernel_26832\\1680438533.py:1: SettingWithCopyWarning: \n",
      "A value is trying to be set on a copy of a slice from a DataFrame.\n",
      "Try using .loc[row_indexer,col_indexer] = value instead\n",
      "\n",
      "See the caveats in the documentation: https://pandas.pydata.org/pandas-docs/stable/user_guide/indexing.html#returning-a-view-versus-a-copy\n",
      "  new_corpus['Cleaned'] = new_corpus['body'].apply(preprocess)\n"
     ]
    }
   ],
   "source": [
    "new_corpus['Cleaned'] = new_corpus['body'].apply(preprocess)"
   ]
  },
  {
   "cell_type": "code",
   "execution_count": 113,
   "id": "6d7b21f5",
   "metadata": {},
   "outputs": [
    {
     "data": {
      "text/html": [
       "<div>\n",
       "<style scoped>\n",
       "    .dataframe tbody tr th:only-of-type {\n",
       "        vertical-align: middle;\n",
       "    }\n",
       "\n",
       "    .dataframe tbody tr th {\n",
       "        vertical-align: top;\n",
       "    }\n",
       "\n",
       "    .dataframe thead th {\n",
       "        text-align: right;\n",
       "    }\n",
       "</style>\n",
       "<table border=\"1\" class=\"dataframe\">\n",
       "  <thead>\n",
       "    <tr style=\"text-align: right;\">\n",
       "      <th></th>\n",
       "      <th>body</th>\n",
       "      <th>recommendation_status</th>\n",
       "      <th>status_label</th>\n",
       "      <th>Cleaned</th>\n",
       "    </tr>\n",
       "  </thead>\n",
       "  <tbody>\n",
       "    <tr>\n",
       "      <th>0</th>\n",
       "      <td>به درد نمیخوره</td>\n",
       "      <td>not_recommended</td>\n",
       "      <td>0</td>\n",
       "      <td>به درد نمیخوره</td>\n",
       "    </tr>\n",
       "    <tr>\n",
       "      <th>1</th>\n",
       "      <td>می‌تونست به عنوان یه کالای فرهنگی بهتر بسته بن...</td>\n",
       "      <td>recommended</td>\n",
       "      <td>1</td>\n",
       "      <td>می‌تونست به عنوان یه کالای فرهنگی بهتر بسته بن...</td>\n",
       "    </tr>\n",
       "    <tr>\n",
       "      <th>2</th>\n",
       "      <td>بسته بندیش خوب بود\\r\\n کاربرد و کیفیتشم خیلی خ...</td>\n",
       "      <td>recommended</td>\n",
       "      <td>1</td>\n",
       "      <td>بسته بندیش خوب بود کاربرد و کیفیتشم خیلی خوبه ...</td>\n",
       "    </tr>\n",
       "    <tr>\n",
       "      <th>3</th>\n",
       "      <td>به نظرم خوبه فقط یکم ظریفه. از رنگش خوشم اومد ...</td>\n",
       "      <td>recommended</td>\n",
       "      <td>1</td>\n",
       "      <td>به نظرم خوبه فقط یکم ظریفه از رنگش خوشم اومد م...</td>\n",
       "    </tr>\n",
       "    <tr>\n",
       "      <th>4</th>\n",
       "      <td>معمولیه اگه واسه خونه رنگ کردن شخصی میخواین او...</td>\n",
       "      <td>recommended</td>\n",
       "      <td>1</td>\n",
       "      <td>معمولیه اگه واسه خونه رنگ کردن شخصی میخواین او...</td>\n",
       "    </tr>\n",
       "  </tbody>\n",
       "</table>\n",
       "</div>"
      ],
      "text/plain": [
       "                                                body recommendation_status  \\\n",
       "0                                    به درد نمیخوره        not_recommended   \n",
       "1  می‌تونست به عنوان یه کالای فرهنگی بهتر بسته بن...           recommended   \n",
       "2  بسته بندیش خوب بود\\r\\n کاربرد و کیفیتشم خیلی خ...           recommended   \n",
       "3  به نظرم خوبه فقط یکم ظریفه. از رنگش خوشم اومد ...           recommended   \n",
       "4  معمولیه اگه واسه خونه رنگ کردن شخصی میخواین او...           recommended   \n",
       "\n",
       "   status_label                                            Cleaned  \n",
       "0             0                                     به درد نمیخوره  \n",
       "1             1  می‌تونست به عنوان یه کالای فرهنگی بهتر بسته بن...  \n",
       "2             1  بسته بندیش خوب بود کاربرد و کیفیتشم خیلی خوبه ...  \n",
       "3             1  به نظرم خوبه فقط یکم ظریفه از رنگش خوشم اومد م...  \n",
       "4             1  معمولیه اگه واسه خونه رنگ کردن شخصی میخواین او...  "
      ]
     },
     "execution_count": 113,
     "metadata": {},
     "output_type": "execute_result"
    }
   ],
   "source": [
    "new_corpus.head()"
   ]
  },
  {
   "cell_type": "code",
   "execution_count": 114,
   "id": "97149f9f",
   "metadata": {},
   "outputs": [
    {
     "data": {
      "text/plain": [
       "(76909, 4)"
      ]
     },
     "execution_count": 114,
     "metadata": {},
     "output_type": "execute_result"
    }
   ],
   "source": [
    "new_corpus = new_corpus.dropna()\n",
    "new_corpus.shape"
   ]
  },
  {
   "cell_type": "code",
   "execution_count": 115,
   "id": "0d79d5fd",
   "metadata": {},
   "outputs": [
    {
     "name": "stdout",
     "output_type": "stream",
     "text": [
      "<class 'pandas.core.frame.DataFrame'>\n",
      "Int64Index: 76909 entries, 0 to 99998\n",
      "Data columns (total 4 columns):\n",
      " #   Column                 Non-Null Count  Dtype \n",
      "---  ------                 --------------  ----- \n",
      " 0   body                   76909 non-null  object\n",
      " 1   recommendation_status  76909 non-null  object\n",
      " 2   status_label           76909 non-null  int64 \n",
      " 3   Cleaned                76909 non-null  object\n",
      "dtypes: int64(1), object(3)\n",
      "memory usage: 2.9+ MB\n"
     ]
    }
   ],
   "source": [
    "new_corpus.info()"
   ]
  },
  {
   "cell_type": "markdown",
   "id": "7f1b32c0",
   "metadata": {},
   "source": [
    "# Save Clean Data for next Runs"
   ]
  },
  {
   "cell_type": "code",
   "execution_count": 119,
   "id": "2df36326",
   "metadata": {},
   "outputs": [],
   "source": [
    "new_corpus.to_csv('digikala_comments_preprocessed.csv')"
   ]
  },
  {
   "cell_type": "code",
   "execution_count": 128,
   "id": "6ac13550",
   "metadata": {},
   "outputs": [],
   "source": [
    "new_corpus = pd.read_csv('digikala_comments_preprocessed.csv', on_bad_lines= 'skip')"
   ]
  },
  {
   "cell_type": "code",
   "execution_count": 65,
   "id": "f1a09d59",
   "metadata": {},
   "outputs": [],
   "source": [
    "with open('stopwords.txt', 'r', encoding ='utf-8') as f :\n",
    "        stopwords = f.read().splitlines()\n",
    "def rmv_sw (text):\n",
    "    return ' '.join([word for word in text.split() if word not in stopwords])\n",
    "\n",
    "new_corpus['Cleaned_sw_rmvd'] = new_corpus['Cleaned'].apply(rmv_sw)   "
   ]
  },
  {
   "cell_type": "code",
   "execution_count": 131,
   "id": "91bc8f13",
   "metadata": {},
   "outputs": [
    {
     "data": {
      "text/plain": [
       "recommended        70559\n",
       "not_recommended     6350\n",
       "Name: recommendation_status, dtype: int64"
      ]
     },
     "execution_count": 131,
     "metadata": {},
     "output_type": "execute_result"
    }
   ],
   "source": [
    "new_corpus.recommendation_status.value_counts()"
   ]
  },
  {
   "cell_type": "code",
   "execution_count": 132,
   "id": "f2ba261e",
   "metadata": {},
   "outputs": [
    {
     "data": {
      "text/plain": [
       "recommended        6350\n",
       "not_recommended    6350\n",
       "Name: recommendation_status, dtype: int64"
      ]
     },
     "execution_count": 132,
     "metadata": {},
     "output_type": "execute_result"
    }
   ],
   "source": [
    "nrec = new_corpus[new_corpus['recommendation_status'].isin(['not_recommended'])]\n",
    "rec = new_corpus[new_corpus['recommendation_status'].isin(['recommended'])]\n",
    "rec = rec.head(6350)\n",
    "new_corpus = pd.concat([rec, nrec])\n",
    "new_corpus.recommendation_status.value_counts()"
   ]
  },
  {
   "cell_type": "markdown",
   "id": "5f170000",
   "metadata": {},
   "source": [
    "# Count Vectorizing & TFIDF Vectorizing"
   ]
  },
  {
   "cell_type": "code",
   "execution_count": 133,
   "id": "4eef382b",
   "metadata": {},
   "outputs": [],
   "source": [
    "count_vectorizer = CountVectorizer()\n",
    "X_count_vectorized = count_vectorizer.fit_transform(new_corpus.Cleaned).todense()"
   ]
  },
  {
   "cell_type": "code",
   "execution_count": 134,
   "id": "f6f35b3a",
   "metadata": {},
   "outputs": [],
   "source": [
    "vectorizer = TfidfVectorizer(min_df = 2, max_features = 10000 )\n",
    "X_tfidf_vectorized =  vectorizer.fit_transform(new_corpus.Cleaned).todense()"
   ]
  },
  {
   "cell_type": "code",
   "execution_count": 135,
   "id": "c9383679",
   "metadata": {},
   "outputs": [],
   "source": [
    "labels = new_corpus['status_label'].values"
   ]
  },
  {
   "cell_type": "code",
   "execution_count": 136,
   "id": "e092f32d",
   "metadata": {},
   "outputs": [],
   "source": [
    "from sklearn.model_selection import train_test_split\n",
    "X_train, X_test, y_train, y_test = train_test_split(X_count_vectorized, labels, test_size = 0.3 , random_state = 42) "
   ]
  },
  {
   "cell_type": "code",
   "execution_count": 137,
   "id": "da7ea929",
   "metadata": {},
   "outputs": [],
   "source": [
    "X_tfidf_train, X_tfidf_test, y_tfidf_train, y_tfidf_test = train_test_split(X_tfidf_vectorized, labels, test_size = 0.3 , random_state = 42) "
   ]
  },
  {
   "cell_type": "code",
   "execution_count": 138,
   "id": "7054e950",
   "metadata": {},
   "outputs": [
    {
     "name": "stdout",
     "output_type": "stream",
     "text": [
      "(8890, 5677)\n"
     ]
    }
   ],
   "source": [
    "input_dim = X_tfidf_train.shape\n",
    "print(input_dim)"
   ]
  },
  {
   "cell_type": "markdown",
   "id": "19980a38",
   "metadata": {},
   "source": [
    "# Logistic Regression for Count Vectorization"
   ]
  },
  {
   "cell_type": "code",
   "execution_count": 139,
   "id": "f5851ab1",
   "metadata": {},
   "outputs": [
    {
     "name": "stdout",
     "output_type": "stream",
     "text": [
      "\n",
      "Accuracy on validation set: 0.8874\n",
      "\n",
      "Classification report : \n",
      "               precision    recall  f1-score   support\n",
      "\n",
      "           0       0.89      0.88      0.89      1867\n",
      "           1       0.89      0.89      0.89      1943\n",
      "\n",
      "    accuracy                           0.89      3810\n",
      "   macro avg       0.89      0.89      0.89      3810\n",
      "weighted avg       0.89      0.89      0.89      3810\n",
      "\n",
      "\n",
      "Confusion Matrix : \n",
      " [[1652  215]\n",
      " [ 214 1729]]\n"
     ]
    }
   ],
   "source": [
    "xtr = np.asarray(X_train)\n",
    "ytr = np.asarray(y_train)\n",
    "xts = np.asarray(X_test)\n",
    "yts = np.asarray(y_test)\n",
    "classifier = LogisticRegression()\n",
    "classifier.fit(xtr, ytr)\n",
    "c_pred = classifier.predict(xts)\n",
    "modelEvaluation(yts, c_pred)"
   ]
  },
  {
   "cell_type": "markdown",
   "id": "a4a1d07d",
   "metadata": {},
   "source": [
    "# Logistic Regression for TF-IDF Vectorization"
   ]
  },
  {
   "cell_type": "code",
   "execution_count": 140,
   "id": "2aabc968",
   "metadata": {},
   "outputs": [
    {
     "name": "stdout",
     "output_type": "stream",
     "text": [
      "\n",
      "Accuracy on validation set: 0.8885\n",
      "\n",
      "Classification report : \n",
      "               precision    recall  f1-score   support\n",
      "\n",
      "           0       0.87      0.91      0.89      1867\n",
      "           1       0.91      0.87      0.89      1943\n",
      "\n",
      "    accuracy                           0.89      3810\n",
      "   macro avg       0.89      0.89      0.89      3810\n",
      "weighted avg       0.89      0.89      0.89      3810\n",
      "\n",
      "\n",
      "Confusion Matrix : \n",
      " [[1693  174]\n",
      " [ 251 1692]]\n"
     ]
    }
   ],
   "source": [
    "x_tfidf_tr = np.asarray(X_tfidf_train)\n",
    "y_tfidf_tr = np.asarray(y_tfidf_train)\n",
    "x_tfidf_ts = np.asarray(X_tfidf_test)\n",
    "y_tfidf_ts = np.asarray(y_tfidf_test)\n",
    "\n",
    "clf = LogisticRegression()\n",
    "clf.fit(x_tfidf_tr, y_tfidf_tr)\n",
    "tf_pred = clf.predict(x_tfidf_ts)\n",
    "modelEvaluation(y_tfidf_ts, tf_pred)"
   ]
  },
  {
   "cell_type": "markdown",
   "id": "6b701fa5",
   "metadata": {},
   "source": [
    "# Neural Network on TF-IDF"
   ]
  },
  {
   "cell_type": "code",
   "execution_count": 141,
   "id": "f5670042",
   "metadata": {},
   "outputs": [],
   "source": [
    "nb_classes = 2\n",
    "batch_size = 32\n",
    "nb_epochs = 10"
   ]
  },
  {
   "cell_type": "code",
   "execution_count": 142,
   "id": "126999c8",
   "metadata": {},
   "outputs": [],
   "source": [
    "y_tfidf_train_cat = np_utils.to_categorical(y_tfidf_train,)"
   ]
  },
  {
   "cell_type": "code",
   "execution_count": 143,
   "id": "2f3b6cda",
   "metadata": {},
   "outputs": [
    {
     "name": "stderr",
     "output_type": "stream",
     "text": [
      "E:\\Anaconda\\lib\\site-packages\\keras\\src\\layers\\core\\dense.py:87: UserWarning: Do not pass an `input_shape`/`input_dim` argument to a layer. When using Sequential models, prefer using an `Input(shape)` object as the first layer in the model instead.\n",
      "  super().__init__(activity_regularizer=activity_regularizer, **kwargs)\n"
     ]
    }
   ],
   "source": [
    "model = Sequential()\n",
    "\n",
    "model.add(Dense(1000,input_shape= (input_dim[1],)))\n",
    "model.add(Activation('relu'))\n",
    "model.add(Dropout(0.5))\n",
    "model.add(Dense(500))\n",
    "\n",
    "model.add(Activation('relu'))\n",
    "\n",
    "model.add(Dropout(0.5))\n",
    "\n",
    "model.add(Dense(50))\n",
    "\n",
    "model.add(Activation('relu'))\n",
    "\n",
    "model.add(Dropout(0.5))\n",
    "\n",
    "model.add(Dense(nb_classes))\n",
    "model.add(Activation('softmax'))\n",
    "\n",
    "model.compile(loss='categorical_crossentropy', optimizer='adam')"
   ]
  },
  {
   "cell_type": "code",
   "execution_count": 144,
   "id": "939b1e55",
   "metadata": {},
   "outputs": [],
   "source": [
    "tf.config.run_functions_eagerly(True)"
   ]
  },
  {
   "cell_type": "code",
   "execution_count": 145,
   "id": "01aead6d",
   "metadata": {},
   "outputs": [
    {
     "name": "stderr",
     "output_type": "stream",
     "text": [
      "E:\\Anaconda\\lib\\site-packages\\tensorflow\\python\\data\\ops\\structured_function.py:258: UserWarning: Even though the `tf.config.experimental_run_functions_eagerly` option is set, this option does not apply to tf.data functions. To force eager execution of tf.data functions, please use `tf.data.experimental.enable_debug_mode()`.\n",
      "  warnings.warn(\n"
     ]
    },
    {
     "name": "stdout",
     "output_type": "stream",
     "text": [
      "Epoch 1/10\n",
      "278/278 - 49s - 175ms/step - loss: 0.3934\n",
      "Epoch 2/10\n",
      "278/278 - 48s - 173ms/step - loss: 0.2108\n",
      "Epoch 3/10\n",
      "278/278 - 47s - 169ms/step - loss: 0.1315\n",
      "Epoch 4/10\n",
      "278/278 - 47s - 170ms/step - loss: 0.0795\n",
      "Epoch 5/10\n",
      "278/278 - 83s - 299ms/step - loss: 0.0634\n",
      "Epoch 6/10\n",
      "278/278 - 48s - 172ms/step - loss: 0.0497\n",
      "Epoch 7/10\n",
      "278/278 - 48s - 172ms/step - loss: 0.0418\n",
      "Epoch 8/10\n",
      "278/278 - 48s - 173ms/step - loss: 0.0376\n",
      "Epoch 9/10\n",
      "278/278 - 82s - 294ms/step - loss: 0.0379\n",
      "Epoch 10/10\n",
      "278/278 - 82s - 295ms/step - loss: 0.0370\n"
     ]
    },
    {
     "data": {
      "text/plain": [
       "<keras.src.callbacks.history.History at 0x1cf67fe9f60>"
      ]
     },
     "execution_count": 145,
     "metadata": {},
     "output_type": "execute_result"
    }
   ],
   "source": [
    "model.fit(X_tfidf_train, y_tfidf_train_cat, batch_size = batch_size, epochs= nb_epochs, verbose=2)"
   ]
  },
  {
   "cell_type": "code",
   "execution_count": 150,
   "id": "d79e1100",
   "metadata": {},
   "outputs": [
    {
     "name": "stdout",
     "output_type": "stream",
     "text": [
      "\u001b[1m120/120\u001b[0m \u001b[32m━━━━━━━━━━━━━━━━━━━━\u001b[0m\u001b[37m\u001b[0m \u001b[1m2s\u001b[0m 20ms/step\n",
      "\u001b[1m278/278\u001b[0m \u001b[32m━━━━━━━━━━━━━━━━━━━━\u001b[0m\u001b[37m\u001b[0m \u001b[1m6s\u001b[0m 20ms/step\n"
     ]
    }
   ],
   "source": [
    "y_test_pred = model.predict(X_tfidf_test)\n",
    "y_test_predclass = np.argmax(y_test_pred, axis = 1)\n",
    "y_train_pred= model.predict(X_tfidf_train)\n",
    "y_train_predclass = np.argmax(y_train_pred, axis = 1)"
   ]
  },
  {
   "cell_type": "code",
   "execution_count": 151,
   "id": "2be757b0",
   "metadata": {},
   "outputs": [
    {
     "name": "stdout",
     "output_type": "stream",
     "text": [
      "nDeep Neural Network - Test Accuracy: 88.14\n",
      "nDeep Neural Network - Train Accuracy: 99.15\n"
     ]
    }
   ],
   "source": [
    "from sklearn.metrics import accuracy_score,classification_report\n",
    "print(\"nDeep Neural Network - Test Accuracy:\", (round(accuracy_score(y_tfidf_test, y_test_predclass),4))*100)\n",
    "print(\"nDeep Neural Network - Train Accuracy:\", (round(accuracy_score(y_tfidf_train, y_train_predclass),4))*100)"
   ]
  },
  {
   "cell_type": "code",
   "execution_count": 152,
   "id": "d386a7a2",
   "metadata": {},
   "outputs": [
    {
     "name": "stdout",
     "output_type": "stream",
     "text": [
      "\n",
      "Accuracy on validation set: 0.8814\n",
      "\n",
      "Classification report : \n",
      "               precision    recall  f1-score   support\n",
      "\n",
      "           0       0.89      0.87      0.88      1867\n",
      "           1       0.87      0.90      0.89      1943\n",
      "\n",
      "    accuracy                           0.88      3810\n",
      "   macro avg       0.88      0.88      0.88      3810\n",
      "weighted avg       0.88      0.88      0.88      3810\n",
      "\n",
      "\n",
      "Confusion Matrix : \n",
      " [[1618  249]\n",
      " [ 203 1740]]\n"
     ]
    }
   ],
   "source": [
    "modelEvaluation(y_tfidf_test, y_test_predclass)"
   ]
  },
  {
   "cell_type": "code",
   "execution_count": 154,
   "id": "d8f55210",
   "metadata": {},
   "outputs": [
    {
     "name": "stdout",
     "output_type": "stream",
     "text": [
      "\u001b[1m1/1\u001b[0m \u001b[32m━━━━━━━━━━━━━━━━━━━━\u001b[0m\u001b[37m\u001b[0m \u001b[1m0s\u001b[0m 32ms/step\n",
      "0\n",
      "\u001b[1m1/1\u001b[0m \u001b[32m━━━━━━━━━━━━━━━━━━━━\u001b[0m\u001b[37m\u001b[0m \u001b[1m0s\u001b[0m 52ms/step\n",
      "[[9.9999976e-01 2.6290570e-07]]\n"
     ]
    }
   ],
   "source": [
    "X_pred = vectorizer.transform([preprocess('بد بود ')]).todense()\n",
    "print(np.argmax(model.predict(X_pred)))\n",
    "print(model.predict(X_pred))"
   ]
  },
  {
   "cell_type": "code",
   "execution_count": 155,
   "id": "c851d06c",
   "metadata": {},
   "outputs": [
    {
     "data": {
      "text/html": [
       "<div>\n",
       "<style scoped>\n",
       "    .dataframe tbody tr th:only-of-type {\n",
       "        vertical-align: middle;\n",
       "    }\n",
       "\n",
       "    .dataframe tbody tr th {\n",
       "        vertical-align: top;\n",
       "    }\n",
       "\n",
       "    .dataframe thead th {\n",
       "        text-align: right;\n",
       "    }\n",
       "</style>\n",
       "<table border=\"1\" class=\"dataframe\">\n",
       "  <thead>\n",
       "    <tr style=\"text-align: right;\">\n",
       "      <th></th>\n",
       "      <th>Unnamed: 0</th>\n",
       "      <th>body</th>\n",
       "      <th>recommendation_status</th>\n",
       "      <th>status_label</th>\n",
       "      <th>Cleaned</th>\n",
       "    </tr>\n",
       "  </thead>\n",
       "  <tbody>\n",
       "    <tr>\n",
       "      <th>1</th>\n",
       "      <td>1</td>\n",
       "      <td>می‌تونست به عنوان یه کالای فرهنگی بهتر بسته بن...</td>\n",
       "      <td>recommended</td>\n",
       "      <td>1</td>\n",
       "      <td>می‌تونست به عنوان یه کالای فرهنگی بهتر بسته بن...</td>\n",
       "    </tr>\n",
       "    <tr>\n",
       "      <th>2</th>\n",
       "      <td>2</td>\n",
       "      <td>بسته بندیش خوب بود\\r\\n کاربرد و کیفیتشم خیلی خ...</td>\n",
       "      <td>recommended</td>\n",
       "      <td>1</td>\n",
       "      <td>بسته بندیش خوب بود کاربرد و کیفیتشم خیلی خوبه ...</td>\n",
       "    </tr>\n",
       "    <tr>\n",
       "      <th>3</th>\n",
       "      <td>3</td>\n",
       "      <td>به نظرم خوبه فقط یکم ظریفه. از رنگش خوشم اومد ...</td>\n",
       "      <td>recommended</td>\n",
       "      <td>1</td>\n",
       "      <td>به نظرم خوبه فقط یکم ظریفه از رنگش خوشم اومد م...</td>\n",
       "    </tr>\n",
       "    <tr>\n",
       "      <th>4</th>\n",
       "      <td>4</td>\n",
       "      <td>معمولیه اگه واسه خونه رنگ کردن شخصی میخواین او...</td>\n",
       "      <td>recommended</td>\n",
       "      <td>1</td>\n",
       "      <td>معمولیه اگه واسه خونه رنگ کردن شخصی میخواین او...</td>\n",
       "    </tr>\n",
       "    <tr>\n",
       "      <th>5</th>\n",
       "      <td>5</td>\n",
       "      <td>قبلا هم استفاده کردم اگه بلد باشین کار کردن با...</td>\n",
       "      <td>recommended</td>\n",
       "      <td>1</td>\n",
       "      <td>قبلا هم استفاده کردم اگه بلد باشین کار کردن با...</td>\n",
       "    </tr>\n",
       "  </tbody>\n",
       "</table>\n",
       "</div>"
      ],
      "text/plain": [
       "   Unnamed: 0                                               body  \\\n",
       "1           1  می‌تونست به عنوان یه کالای فرهنگی بهتر بسته بن...   \n",
       "2           2  بسته بندیش خوب بود\\r\\n کاربرد و کیفیتشم خیلی خ...   \n",
       "3           3  به نظرم خوبه فقط یکم ظریفه. از رنگش خوشم اومد ...   \n",
       "4           4  معمولیه اگه واسه خونه رنگ کردن شخصی میخواین او...   \n",
       "5           5  قبلا هم استفاده کردم اگه بلد باشین کار کردن با...   \n",
       "\n",
       "  recommendation_status  status_label  \\\n",
       "1           recommended             1   \n",
       "2           recommended             1   \n",
       "3           recommended             1   \n",
       "4           recommended             1   \n",
       "5           recommended             1   \n",
       "\n",
       "                                             Cleaned  \n",
       "1  می‌تونست به عنوان یه کالای فرهنگی بهتر بسته بن...  \n",
       "2  بسته بندیش خوب بود کاربرد و کیفیتشم خیلی خوبه ...  \n",
       "3  به نظرم خوبه فقط یکم ظریفه از رنگش خوشم اومد م...  \n",
       "4  معمولیه اگه واسه خونه رنگ کردن شخصی میخواین او...  \n",
       "5  قبلا هم استفاده کردم اگه بلد باشین کار کردن با...  "
      ]
     },
     "execution_count": 155,
     "metadata": {},
     "output_type": "execute_result"
    }
   ],
   "source": [
    "ncrps = new_corpus\n",
    "ncrps.head()"
   ]
  },
  {
   "cell_type": "markdown",
   "id": "cb1f1738",
   "metadata": {},
   "source": [
    "# LSTM with word embedding"
   ]
  },
  {
   "cell_type": "code",
   "execution_count": 156,
   "id": "0c94912b",
   "metadata": {},
   "outputs": [],
   "source": [
    "Xx = ncrps['Cleaned']\n",
    "tokenizer = Tokenizer(num_words=20000)\n",
    "tokenizer.fit_on_texts(Xx)\n",
    "Xx = tokenizer.texts_to_sequences(Xx)\n",
    "Xx = pad_sequences(Xx , maxlen=100)"
   ]
  },
  {
   "cell_type": "code",
   "execution_count": 157,
   "id": "9d973bb8",
   "metadata": {},
   "outputs": [
    {
     "data": {
      "text/plain": [
       "(12700, 100)"
      ]
     },
     "execution_count": 157,
     "metadata": {},
     "output_type": "execute_result"
    }
   ],
   "source": [
    "Xx.shape"
   ]
  },
  {
   "cell_type": "code",
   "execution_count": 158,
   "id": "d7e81488",
   "metadata": {},
   "outputs": [],
   "source": [
    "from sklearn.model_selection import train_test_split\n",
    "Xx_train, Xx_test, yy_train, yy_test = train_test_split(Xx, labels, test_size = 0.2 , random_state = 42)"
   ]
  },
  {
   "cell_type": "code",
   "execution_count": 159,
   "id": "c20f5210",
   "metadata": {},
   "outputs": [],
   "source": [
    "yy_train_cat = np_utils.to_categorical(yy_train, 2)\n",
    "yy_test_cat = np_utils.to_categorical(yy_test, 2)"
   ]
  },
  {
   "cell_type": "code",
   "execution_count": 160,
   "id": "6af694a3",
   "metadata": {},
   "outputs": [],
   "source": [
    "from tensorflow.keras import layers"
   ]
  },
  {
   "cell_type": "code",
   "execution_count": 161,
   "id": "da78cadb",
   "metadata": {},
   "outputs": [
    {
     "name": "stderr",
     "output_type": "stream",
     "text": [
      "E:\\Anaconda\\lib\\site-packages\\keras\\src\\layers\\core\\embedding.py:93: UserWarning: Do not pass an `input_shape`/`input_dim` argument to a layer. When using Sequential models, prefer using an `Input(shape)` object as the first layer in the model instead.\n",
      "  super().__init__(**kwargs)\n"
     ]
    }
   ],
   "source": [
    "rnn_model = tf.keras.Sequential([\n",
    "    tf.keras.layers.Embedding(input_dim=20000, output_dim=32, input_shape=(Xx_train.shape[1],)),\n",
    "    tf.keras.layers.Bidirectional(layers.LSTM(128,return_sequences=True)),\n",
    "    tf.keras.layers.Bidirectional(layers.LSTM(128)),\n",
    "    tf.keras.layers.Dense(64, activation='relu'),\n",
    "    tf.keras.layers.Dense(2, activation='softmax')\n",
    "])"
   ]
  },
  {
   "cell_type": "code",
   "execution_count": 162,
   "id": "857ed44e",
   "metadata": {},
   "outputs": [],
   "source": [
    "rnn_model.compile(loss=tf.keras.losses.categorical_crossentropy,\n",
    "                 optimizer= tf.keras.optimizers.Adam(1e-4),\n",
    "                 metrics=['accuracy'])"
   ]
  },
  {
   "cell_type": "code",
   "execution_count": 163,
   "id": "96b2e889",
   "metadata": {},
   "outputs": [
    {
     "name": "stdout",
     "output_type": "stream",
     "text": [
      "Epoch 1/3\n"
     ]
    },
    {
     "name": "stderr",
     "output_type": "stream",
     "text": [
      "E:\\Anaconda\\lib\\site-packages\\tensorflow\\python\\data\\ops\\structured_function.py:258: UserWarning: Even though the `tf.config.experimental_run_functions_eagerly` option is set, this option does not apply to tf.data functions. To force eager execution of tf.data functions, please use `tf.data.experimental.enable_debug_mode()`.\n",
      "  warnings.warn(\n"
     ]
    },
    {
     "name": "stdout",
     "output_type": "stream",
     "text": [
      "\u001b[1m318/318\u001b[0m \u001b[32m━━━━━━━━━━━━━━━━━━━━\u001b[0m\u001b[37m\u001b[0m \u001b[1m1056s\u001b[0m 3s/step - accuracy: 0.6079 - loss: 0.6530 - val_accuracy: 0.8591 - val_loss: 0.3451\n",
      "Epoch 2/3\n",
      "\u001b[1m318/318\u001b[0m \u001b[32m━━━━━━━━━━━━━━━━━━━━\u001b[0m\u001b[37m\u001b[0m \u001b[1m1394s\u001b[0m 4s/step - accuracy: 0.8805 - loss: 0.3097\n",
      "Epoch 3/3\n"
     ]
    },
    {
     "name": "stderr",
     "output_type": "stream",
     "text": [
      "E:\\Anaconda\\lib\\contextlib.py:153: UserWarning: Your input ran out of data; interrupting training. Make sure that your dataset or generator can generate at least `steps_per_epoch * epochs` batches. You may need to use the `.repeat()` function when building your dataset.\n",
      "  self.gen.throw(typ, value, traceback)\n"
     ]
    },
    {
     "name": "stdout",
     "output_type": "stream",
     "text": [
      "\u001b[1m318/318\u001b[0m \u001b[32m━━━━━━━━━━━━━━━━━━━━\u001b[0m\u001b[37m\u001b[0m \u001b[1m1074s\u001b[0m 3s/step - accuracy: 0.9120 - loss: 0.2505 - val_accuracy: 0.8787 - val_loss: 0.3039\n"
     ]
    },
    {
     "data": {
      "text/plain": [
       "<keras.src.callbacks.history.History at 0x1cf67fc8fd0>"
      ]
     },
     "execution_count": 163,
     "metadata": {},
     "output_type": "execute_result"
    }
   ],
   "source": [
    "rnn_model.fit(Xx_train,yy_train_cat, epochs=3,\n",
    "             validation_data =(Xx_test, yy_test_cat),\n",
    "             validation_steps = 30)"
   ]
  },
  {
   "cell_type": "code",
   "execution_count": 164,
   "id": "f253ef0f",
   "metadata": {},
   "outputs": [
    {
     "name": "stdout",
     "output_type": "stream",
     "text": [
      "\u001b[1m80/80\u001b[0m \u001b[32m━━━━━━━━━━━━━━━━━━━━\u001b[0m\u001b[37m\u001b[0m \u001b[1m128s\u001b[0m 2s/step\n",
      "\u001b[1m318/318\u001b[0m \u001b[32m━━━━━━━━━━━━━━━━━━━━\u001b[0m\u001b[37m\u001b[0m \u001b[1m501s\u001b[0m 2s/step\n"
     ]
    }
   ],
   "source": [
    "yy_test_pred = rnn_model.predict(Xx_test)\n",
    "yy_test_predclass = np.argmax(yy_test_pred, axis=1)\n",
    "yy_train_pred = rnn_model.predict(Xx_train)\n",
    "yy_train_predclass = np.argmax(yy_train_pred, axis=1)"
   ]
  },
  {
   "cell_type": "code",
   "execution_count": 165,
   "id": "cffbcb33",
   "metadata": {},
   "outputs": [
    {
     "name": "stdout",
     "output_type": "stream",
     "text": [
      "nDeep Neural Network - Test Accuracy: 87.87\n",
      "nDeep Neural Network - Train Accuracy: 93.26\n"
     ]
    }
   ],
   "source": [
    "from sklearn.metrics import accuracy_score,classification_report\n",
    "print(\"nDeep Neural Network - Test Accuracy:\", (round(accuracy_score(yy_test, yy_test_predclass),4))*100)\n",
    "print(\"nDeep Neural Network - Train Accuracy:\", (round(accuracy_score(yy_train, yy_train_predclass),4))*100)"
   ]
  },
  {
   "cell_type": "code",
   "execution_count": 166,
   "id": "77428900",
   "metadata": {},
   "outputs": [
    {
     "name": "stdout",
     "output_type": "stream",
     "text": [
      "\n",
      "Accuracy on validation set: 0.8787\n",
      "\n",
      "Classification report : \n",
      "               precision    recall  f1-score   support\n",
      "\n",
      "           0       0.85      0.92      0.88      1258\n",
      "           1       0.91      0.84      0.88      1282\n",
      "\n",
      "    accuracy                           0.88      2540\n",
      "   macro avg       0.88      0.88      0.88      2540\n",
      "weighted avg       0.88      0.88      0.88      2540\n",
      "\n",
      "\n",
      "Confusion Matrix : \n",
      " [[1154  104]\n",
      " [ 204 1078]]\n"
     ]
    }
   ],
   "source": [
    "modelEvaluation(yy_test, yy_test_predclass)"
   ]
  }
 ],
 "metadata": {
  "kernelspec": {
   "display_name": "Python 3 (ipykernel)",
   "language": "python",
   "name": "python3"
  },
  "language_info": {
   "codemirror_mode": {
    "name": "ipython",
    "version": 3
   },
   "file_extension": ".py",
   "mimetype": "text/x-python",
   "name": "python",
   "nbconvert_exporter": "python",
   "pygments_lexer": "ipython3",
   "version": "3.10.9"
  }
 },
 "nbformat": 4,
 "nbformat_minor": 5
}
